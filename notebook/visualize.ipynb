{
 "cells": [
  {
   "cell_type": "code",
   "execution_count": null,
   "id": "8d6d2e9f",
   "metadata": {
    "collapsed": true
   },
   "outputs": [],
   "source": []
  },
  {
   "cell_type": "code",
   "execution_count": null,
   "id": "0ff09281",
   "metadata": {
    "ExecuteTime": {
     "end_time": "2022-04-20T09:21:23.695992Z",
     "start_time": "2022-04-20T09:21:23.688961Z"
    }
   },
   "outputs": [],
   "source": [
    "import torch\n",
    "from torchvision.datasets import CIFAR10\n",
    "from torchvision import transforms as transforms\n",
    "from sklearn.manifold import TSNE"
   ]
  },
  {
   "cell_type": "code",
   "execution_count": null,
   "id": "d6640065",
   "metadata": {
    "ExecuteTime": {
     "end_time": "2022-04-20T09:25:57.460212Z",
     "start_time": "2022-04-20T09:25:57.452285Z"
    }
   },
   "outputs": [],
   "source": [
    "# internal modules\n",
    "import sys\n",
    "from os import path\n",
    "sys.path.append(path.dirname(path.abspath('')))\n",
    "from models.wideresnet import WideResNet\n",
    "from metrics.similarity import kernel_CKA"
   ]
  },
  {
   "cell_type": "code",
   "execution_count": 9,
   "id": "b8531049",
   "metadata": {
    "ExecuteTime": {
     "end_time": "2022-03-30T07:14:10.611175Z",
     "start_time": "2022-03-30T07:14:04.132798Z"
    }
   },
   "outputs": [
    {
     "data": {
      "text/plain": [
       "<All keys matched successfully>"
      ]
     },
     "execution_count": 9,
     "metadata": {},
     "output_type": "execute_result"
    }
   ],
   "source": [
    "client0 = WideResNet(28, 10, widen_factor=10)\n",
    "client0.load_state_dict(torch.load('./ckpt/220330-14-15-43_WRN-28-10-CE_comm030-epoch010-CLIENT00.pt'))\n",
    "global_ = WideResNet(28, 10, widen_factor=10)\n",
    "global_.load_state_dict(torch.load('./ckpt/220330-14-38-09_WRN-28-10-CE_comm030-GLOBAL.pt'))"
   ]
  },
  {
   "cell_type": "code",
   "execution_count": 4,
   "id": "66a534b6",
   "metadata": {
    "ExecuteTime": {
     "end_time": "2022-03-30T06:41:16.953440Z",
     "start_time": "2022-03-30T06:41:16.517061Z"
    }
   },
   "outputs": [],
   "source": [
    "testset = CIFAR10('~/data', train=False, transform=transforms.ToTensor(),)"
   ]
  },
  {
   "cell_type": "code",
   "execution_count": null,
   "id": "b351f535",
   "metadata": {},
   "outputs": [],
   "source": [
    "testset"
   ]
  },
  {
   "cell_type": "code",
   "execution_count": null,
   "id": "74dc1d0d",
   "metadata": {},
   "outputs": [],
   "source": []
  }
 ],
 "metadata": {
  "hide_input": false,
  "kernelspec": {
   "display_name": "torch182",
   "language": "python",
   "name": "torch182"
  },
  "language_info": {
   "codemirror_mode": {
    "name": "ipython",
    "version": 3
   },
   "file_extension": ".py",
   "mimetype": "text/x-python",
   "name": "python",
   "nbconvert_exporter": "python",
   "pygments_lexer": "ipython3",
   "version": "3.9.7"
  },
  "varInspector": {
   "cols": {
    "lenName": 16,
    "lenType": 16,
    "lenVar": 40
   },
   "kernels_config": {
    "python": {
     "delete_cmd_postfix": "",
     "delete_cmd_prefix": "del ",
     "library": "var_list.py",
     "varRefreshCmd": "print(var_dic_list())"
    },
    "r": {
     "delete_cmd_postfix": ") ",
     "delete_cmd_prefix": "rm(",
     "library": "var_list.r",
     "varRefreshCmd": "cat(var_dic_list()) "
    }
   },
   "types_to_exclude": [
    "module",
    "function",
    "builtin_function_or_method",
    "instance",
    "_Feature"
   ],
   "window_display": false
  }
 },
 "nbformat": 4,
 "nbformat_minor": 5
}
