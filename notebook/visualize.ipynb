{
 "cells": [
  {
   "cell_type": "code",
   "execution_count": null,
   "id": "8d6d2e9f",
   "metadata": {
    "collapsed": true
   },
   "outputs": [],
   "source": []
  },
  {
   "cell_type": "code",
   "execution_count": 1,
   "id": "82816994",
   "metadata": {
    "ExecuteTime": {
     "end_time": "2022-04-20T15:42:01.518076Z",
     "start_time": "2022-04-20T15:41:58.201208Z"
    }
   },
   "outputs": [],
   "source": [
    "from itertools import chain\n",
    "import torch\n",
    "from torch import nn\n",
    "from torchvision.datasets import CIFAR10\n",
    "from torchvision import transforms as transforms\n",
    "from sklearn.manifold import TSNE\n",
    "import matplotlib.pyplot as plt\n",
    "from tqdm.auto import tqdm"
   ]
  },
  {
   "cell_type": "code",
   "execution_count": 23,
   "id": "7f0506bf",
   "metadata": {
    "ExecuteTime": {
     "end_time": "2022-04-20T15:49:07.841020Z",
     "start_time": "2022-04-20T15:49:07.838359Z"
    }
   },
   "outputs": [],
   "source": [
    "# user modules\n",
    "import sys\n",
    "import os\n",
    "from os import path\n",
    "sys.path.append(path.dirname(path.abspath('')))\n",
    "from models.wideresnet import WideResNet\n",
    "from models.resnet import ResNet9, ResNet50\n",
    "from metrics.similarity import *\n",
    "from data.partition import partition_data, get_partition_dict\n",
    "from data.datasets import load_cifar10_data\n",
    "from data.dataloader import get_dataloader"
   ]
  },
  {
   "cell_type": "code",
   "execution_count": 4,
   "id": "3b4da2f2",
   "metadata": {
    "ExecuteTime": {
     "end_time": "2022-04-20T15:42:14.818015Z",
     "start_time": "2022-04-20T15:42:14.815351Z"
    }
   },
   "outputs": [],
   "source": [
    "def find_ckpt(expname, comm, modeldir='../ckpt', epoch=None, client=None):\n",
    "    f = filter(lambda x: expname in x, os.listdir(modeldir))\n",
    "    f = filter(lambda x: f'comm{comm:03}' in x, f)\n",
    "    if client is None:\n",
    "        f = filter(lambda x: f'GLOBAL' in x, f)\n",
    "    else:\n",
    "#         f = filter(lambda x: f'epoch{epoch:03}' in x, f)\n",
    "        f = filter(lambda x: f'CLIENT{client:02}' in x, f)\n",
    "    return list(f)[0]"
   ]
  },
  {
   "cell_type": "code",
   "execution_count": 5,
   "id": "c9f04774",
   "metadata": {
    "ExecuteTime": {
     "end_time": "2022-04-20T14:23:40.506002Z",
     "start_time": "2022-04-20T14:23:40.501801Z"
    }
   },
   "outputs": [
    {
     "ename": "SyntaxError",
     "evalue": "invalid syntax (2621874307.py, line 6)",
     "output_type": "error",
     "traceback": [
      "\u001b[0;36m  Input \u001b[0;32mIn [5]\u001b[0;36m\u001b[0m\n\u001b[0;31m    for module in chain(*[ch.modules() for ch in model.children()])\u001b[0m\n\u001b[0m                                                                   ^\u001b[0m\n\u001b[0;31mSyntaxError\u001b[0m\u001b[0;31m:\u001b[0m invalid syntax\n"
     ]
    }
   ],
   "source": [
    "def extract_repr(model, dataset, n_samples=256):\n",
    "    reprs = []\n",
    "    def hook(module, input_):\n",
    "        reprs.append(input_)\n",
    "    \n",
    "    for module in chain(*[ch.modules() for ch in model.children()])\n",
    "        module.register_forward_pre_hook(hook)\n",
    "    \n",
    "# only for resnet-9\n",
    "#     model.layer1.register_forward_pre_hook(hook)\n",
    "#     model.layer2.register_forward_pre_hook(hook)\n",
    "#     model.layer3.register_forward_pre_hook(hook)\n",
    "#     model.classifier.register_forward_pre_hook(hook)\n",
    "\n",
    "    with torch.no_grad():\n",
    "        model(torch.stack([data for data, target in dataset][:256]), )\n",
    "    return [rep[0].view(rep[0].shape[0], -1) for rep in reprs]"
   ]
  },
  {
   "cell_type": "code",
   "execution_count": 10,
   "id": "3b8822d8",
   "metadata": {
    "ExecuteTime": {
     "end_time": "2022-04-20T13:35:40.174159Z",
     "start_time": "2022-04-20T13:35:40.171646Z"
    }
   },
   "outputs": [],
   "source": [
    "def calc_sim(model_a, model_b):\n",
    "    reprs_a= extract_repr(model_a, testset)\n",
    "    reprs_b= extract_repr(model_b, testset)\n",
    "    cka = np.zeros((len(reprs_a), len(reprs_b)))\n",
    "    i=0\n",
    "    for r_a in tqdm(reprs_a):\n",
    "        j=0\n",
    "        for r_b in tqdm(reprs_b):\n",
    "            cka[i,j] = kernel_CKA(r_a, r_b)\n",
    "            j+=1\n",
    "        i+=1\n",
    "    return cka"
   ]
  },
  {
   "cell_type": "code",
   "execution_count": 6,
   "id": "19bbd1bc",
   "metadata": {
    "ExecuteTime": {
     "end_time": "2022-04-20T13:34:38.549080Z",
     "start_time": "2022-04-20T13:34:38.546741Z"
    }
   },
   "outputs": [],
   "source": [
    "def plot(sim):\n",
    "    plt.figure(figsize=(30, 15), dpi=200)\n",
    "    axes = plt.imshow(sim, cmap='magma', vmin=0.0,vmax=1.0)\n",
    "    axes.axes.invert_yaxis()\n",
    "    # plt.savefig(\"/content/comparison.png\", dpi=400)"
   ]
  },
  {
   "cell_type": "code",
   "execution_count": 5,
   "id": "7ea31870",
   "metadata": {
    "ExecuteTime": {
     "end_time": "2022-04-20T15:42:23.006445Z",
     "start_time": "2022-04-20T15:42:17.382930Z"
    }
   },
   "outputs": [
    {
     "data": {
      "text/plain": [
       "<All keys matched successfully>"
      ]
     },
     "execution_count": 5,
     "metadata": {},
     "output_type": "execute_result"
    }
   ],
   "source": [
    "# Model config\n",
    "modeldir = '../ckpt'\n",
    "expname = 'R50-NIID'\n",
    "clientnum = 0\n",
    "# load dataset index map\n",
    "# net_dataidx_map = get_partition_dict('cifar10', 'homo', 10, datadir='~/data', init_seed=0)\n",
    "net_dataidx_map = get_partition_dict('cifar10', 'non-iid-labeldir', 10, datadir='~/data', init_seed=0)\n",
    "trainloader, testloader, trainset, testset= get_dataloader(\n",
    "    'cifar10', '~/data', 256, 32,\n",
    "    net_dataidx_map[clientnum], 0, \n",
    ")\n",
    "\n",
    "# model to compare\n",
    "client = ResNet9(3, 10)\n",
    "client.load_state_dict(torch.load(\n",
    "    os.path.join(modeldir, find_ckpt(expname, comm=1, client=clientnum, modeldir=modeldir))\n",
    "))"
   ]
  },
  {
   "cell_type": "code",
   "execution_count": 6,
   "id": "3d994a20",
   "metadata": {
    "ExecuteTime": {
     "end_time": "2022-04-20T15:42:23.844977Z",
     "start_time": "2022-04-20T15:42:23.764752Z"
    }
   },
   "outputs": [
    {
     "data": {
      "text/plain": [
       "<All keys matched successfully>"
      ]
     },
     "execution_count": 6,
     "metadata": {},
     "output_type": "execute_result"
    }
   ],
   "source": [
    "global_ = ResNet9(3, 10)\n",
    "global_.load_state_dict(torch.load(\n",
    "    os.path.join(modeldir, find_ckpt(expname, comm=1, modeldir=modeldir))\n",
    "))"
   ]
  },
  {
   "cell_type": "code",
   "execution_count": null,
   "id": "404e2845",
   "metadata": {
    "ExecuteTime": {
     "end_time": "2022-04-20T13:39:28.037164Z",
     "start_time": "2022-04-20T13:39:17.859122Z"
    }
   },
   "outputs": [],
   "source": [
    "plot(calc_sim(client, global_))"
   ]
  },
  {
   "cell_type": "code",
   "execution_count": 8,
   "id": "69fde8ba",
   "metadata": {
    "ExecuteTime": {
     "end_time": "2022-04-20T15:42:53.444358Z",
     "start_time": "2022-04-20T15:42:53.417591Z"
    }
   },
   "outputs": [],
   "source": [
    "from torch_cka import CKA"
   ]
  },
  {
   "cell_type": "code",
   "execution_count": 9,
   "id": "6b1300e8",
   "metadata": {
    "ExecuteTime": {
     "end_time": "2022-04-20T15:42:55.216303Z",
     "start_time": "2022-04-20T15:42:55.213467Z"
    }
   },
   "outputs": [
    {
     "data": {
      "text/plain": [
       "['',\n",
       " 'prep',\n",
       " 'prep.conv',\n",
       " 'prep.bn',\n",
       " 'prep.activation',\n",
       " 'layer1',\n",
       " 'layer1.conv',\n",
       " 'layer1.bn',\n",
       " 'layer1.pool',\n",
       " 'layer1.activation',\n",
       " 'layer1_res',\n",
       " 'layer1_res.0',\n",
       " 'layer1_res.0.conv',\n",
       " 'layer1_res.0.bn',\n",
       " 'layer1_res.0.activation',\n",
       " 'layer1_res.1',\n",
       " 'layer1_res.1.conv',\n",
       " 'layer1_res.1.bn',\n",
       " 'layer1_res.1.activation',\n",
       " 'layer2',\n",
       " 'layer2.conv',\n",
       " 'layer2.bn',\n",
       " 'layer2.pool',\n",
       " 'layer2.activation',\n",
       " 'layer3',\n",
       " 'layer3.conv',\n",
       " 'layer3.bn',\n",
       " 'layer3.pool',\n",
       " 'layer3.activation',\n",
       " 'layer3_res',\n",
       " 'layer3_res.0',\n",
       " 'layer3_res.0.conv',\n",
       " 'layer3_res.0.bn',\n",
       " 'layer3_res.0.activation',\n",
       " 'layer3_res.1',\n",
       " 'layer3_res.1.conv',\n",
       " 'layer3_res.1.bn',\n",
       " 'layer3_res.1.activation',\n",
       " 'classifier',\n",
       " 'classifier.0',\n",
       " 'classifier.1',\n",
       " 'classifier.2']"
      ]
     },
     "execution_count": 9,
     "metadata": {},
     "output_type": "execute_result"
    }
   ],
   "source": [
    "[k for k, v in list(client.named_modules())]"
   ]
  },
  {
   "cell_type": "code",
   "execution_count": 17,
   "id": "508ce49d",
   "metadata": {
    "ExecuteTime": {
     "end_time": "2022-04-20T15:46:10.702200Z",
     "start_time": "2022-04-20T15:46:10.700223Z"
    }
   },
   "outputs": [],
   "source": [
    "layers = ['prep.activation', 'layer1.activation', 'layer2.activation', 'layer3.activation']"
   ]
  },
  {
   "cell_type": "code",
   "execution_count": 18,
   "id": "66537669",
   "metadata": {
    "ExecuteTime": {
     "end_time": "2022-04-20T15:46:11.201871Z",
     "start_time": "2022-04-20T15:46:11.198571Z"
    }
   },
   "outputs": [],
   "source": [
    "cka = CKA(client, global_,\n",
    "          model1_name=\"ResNet9-client0\",   # good idea to provide names to avoid confusion\n",
    "          model2_name=\"ResNet9-global\",   \n",
    "          model1_layers=layers, # List of layers to extract features from\n",
    "          model2_layers=layers, # extracts all layer features by default\n",
    "          device='cuda')"
   ]
  },
  {
   "cell_type": "code",
   "execution_count": 21,
   "id": "f91e9982",
   "metadata": {
    "ExecuteTime": {
     "end_time": "2022-04-20T15:46:37.368506Z",
     "start_time": "2022-04-20T15:46:29.639966Z"
    },
    "scrolled": false
   },
   "outputs": [
    {
     "name": "stderr",
     "output_type": "stream",
     "text": [
      "| Comparing features |: 100%|████████████████████████████████████████████████████████████████| 313/313 [00:07<00:00, 40.61it/s]\n"
     ]
    },
    {
     "ename": "AssertionError",
     "evalue": "HSIC computation resulted in NANs",
     "output_type": "error",
     "traceback": [
      "\u001b[0;31m---------------------------------------------------------------------------\u001b[0m",
      "\u001b[0;31mAssertionError\u001b[0m                            Traceback (most recent call last)",
      "Input \u001b[0;32mIn [21]\u001b[0m, in \u001b[0;36m<module>\u001b[0;34m\u001b[0m\n\u001b[0;32m----> 1\u001b[0m \u001b[43mcka\u001b[49m\u001b[38;5;241;43m.\u001b[39;49m\u001b[43mcompare\u001b[49m\u001b[43m(\u001b[49m\u001b[43mtestloader\u001b[49m\u001b[43m)\u001b[49m\n",
      "File \u001b[0;32m~/anaconda3/envs/torch182/lib/python3.9/site-packages/torch_cka/cka.py:183\u001b[0m, in \u001b[0;36mCKA.compare\u001b[0;34m(self, dataloader1, dataloader2)\u001b[0m\n\u001b[1;32m    178\u001b[0m             \u001b[38;5;28mself\u001b[39m\u001b[38;5;241m.\u001b[39mhsic_matrix[i, j, \u001b[38;5;241m2\u001b[39m] \u001b[38;5;241m+\u001b[39m\u001b[38;5;241m=\u001b[39m \u001b[38;5;28mself\u001b[39m\u001b[38;5;241m.\u001b[39m_HSIC(L, L) \u001b[38;5;241m/\u001b[39m num_batches\n\u001b[1;32m    180\u001b[0m \u001b[38;5;28mself\u001b[39m\u001b[38;5;241m.\u001b[39mhsic_matrix \u001b[38;5;241m=\u001b[39m \u001b[38;5;28mself\u001b[39m\u001b[38;5;241m.\u001b[39mhsic_matrix[:, :, \u001b[38;5;241m1\u001b[39m] \u001b[38;5;241m/\u001b[39m (\u001b[38;5;28mself\u001b[39m\u001b[38;5;241m.\u001b[39mhsic_matrix[:, :, \u001b[38;5;241m0\u001b[39m]\u001b[38;5;241m.\u001b[39msqrt() \u001b[38;5;241m*\u001b[39m\n\u001b[1;32m    181\u001b[0m                                                 \u001b[38;5;28mself\u001b[39m\u001b[38;5;241m.\u001b[39mhsic_matrix[:, :, \u001b[38;5;241m2\u001b[39m]\u001b[38;5;241m.\u001b[39msqrt())\n\u001b[0;32m--> 183\u001b[0m \u001b[38;5;28;01massert\u001b[39;00m \u001b[38;5;129;01mnot\u001b[39;00m torch\u001b[38;5;241m.\u001b[39misnan(\u001b[38;5;28mself\u001b[39m\u001b[38;5;241m.\u001b[39mhsic_matrix)\u001b[38;5;241m.\u001b[39many(), \u001b[38;5;124m\"\u001b[39m\u001b[38;5;124mHSIC computation resulted in NANs\u001b[39m\u001b[38;5;124m\"\u001b[39m\n",
      "\u001b[0;31mAssertionError\u001b[0m: HSIC computation resulted in NANs"
     ]
    }
   ],
   "source": [
    "cka.compare(testloader) # secondary dataloader is optional"
   ]
  },
  {
   "cell_type": "code",
   "execution_count": 22,
   "id": "600908b8",
   "metadata": {
    "ExecuteTime": {
     "end_time": "2022-04-20T15:46:44.505503Z",
     "start_time": "2022-04-20T15:46:44.412995Z"
    }
   },
   "outputs": [
    {
     "data": {
      "image/png": "[encoded data removed]",
      "text/plain": [
       "<Figure size 432x288 with 2 Axes>"
      ]
     },
     "metadata": {
      "needs_background": "light"
     },
     "output_type": "display_data"
    }
   ],
   "source": [
    "cka.plot_results()"
   ]
  },
  {
   "cell_type": "code",
   "execution_count": 15,
   "id": "806082bd",
   "metadata": {
    "ExecuteTime": {
     "end_time": "2022-04-20T15:44:37.292069Z",
     "start_time": "2022-04-20T15:44:37.278254Z"
    }
   },
   "outputs": [
    {
     "data": {
      "text/plain": [
       "{'model1_name': 'ResNet9-client0',\n",
       " 'model2_name': 'ResNet9-global',\n",
       " 'CKA': tensor([[ 0.0006,  0.0397,     nan,     nan],\n",
       "         [-0.0025,  0.0162,     nan,     nan],\n",
       "         [-0.0021,  0.0132,     nan,     nan],\n",
       "         [-0.0022,  0.0121,     nan,     nan]]),\n",
       " 'model1_layers': ['prep', 'layer1', 'layer2', 'layer3'],\n",
       " 'model2_layers': ['prep', 'layer1', 'layer2', 'layer3'],\n",
       " 'dataset1_name': '<data.datasets.CIFAR10_truncated object at 0x7f72c029f580>',\n",
       " 'dataset2_name': '<data.datasets.CIFAR10_truncated object at 0x7f72c029f580>'}"
      ]
     },
     "execution_count": 15,
     "metadata": {},
     "output_type": "execute_result"
    }
   ],
   "source": [
    "results = cka.export()  # returns a dict that contains model names, layer names\n",
    "                        # and the CKA matrix\n",
    "results"
   ]
  },
  {
   "cell_type": "code",
   "execution_count": 41,
   "id": "d29932cb",
   "metadata": {
    "ExecuteTime": {
     "end_time": "2022-04-20T11:30:56.685432Z",
     "start_time": "2022-04-20T11:30:56.682699Z"
    }
   },
   "outputs": [],
   "source": [
    "# For partition check\n",
    "\n",
    "# _, y_train, _,_ = load_cifar10_data('~/data')\n",
    "# net_cls_counts = {}\n",
    "# for net_i, dataidx in net_dataidx_map.items():\n",
    "#     unq, unq_cnt = np.unique(y_train[dataidx], return_counts=True)\n",
    "#     net_cls_counts[net_i] = {unq[i]: unq_cnt[i] for i in range(len(unq))}\n",
    "# net_cls_counts"
   ]
  },
  {
   "cell_type": "code",
   "execution_count": null,
   "id": "e102cd7d",
   "metadata": {
    "ExecuteTime": {
     "end_time": "2022-04-20T11:27:02.690013Z",
     "start_time": "2022-04-20T11:27:00.267479Z"
    }
   },
   "outputs": [],
   "source": [
    "net_dataidx_map = get_partition_dict(\n",
    "    'cifar10', 'noniid-labeldir', 10, datadir='~/data', init_seed=0,\n",
    "    beta=0.5\n",
    ")"
   ]
  },
  {
   "cell_type": "code",
   "execution_count": null,
   "id": "74dc1d0d",
   "metadata": {},
   "outputs": [],
   "source": [
    "\n",
    "\n",
    "\n",
    "\n",
    "\n",
    "\n",
    "\n",
    "\n",
    "\n",
    "\n",
    "\n",
    "\n",
    "\n",
    "\n",
    "\n",
    "\n"
   ]
  }
 ],
 "metadata": {
  "hide_input": false,
  "kernelspec": {
   "display_name": "torch182",
   "language": "python",
   "name": "torch182"
  },
  "language_info": {
   "codemirror_mode": {
    "name": "ipython",
    "version": 3
   },
   "file_extension": ".py",
   "mimetype": "text/x-python",
   "name": "python",
   "nbconvert_exporter": "python",
   "pygments_lexer": "ipython3",
   "version": "3.9.7"
  },
  "varInspector": {
   "cols": {
    "lenName": 16,
    "lenType": 16,
    "lenVar": 40
   },
   "kernels_config": {
    "python": {
     "delete_cmd_postfix": "",
     "delete_cmd_prefix": "del ",
     "library": "var_list.py",
     "varRefreshCmd": "print(var_dic_list())"
    },
    "r": {
     "delete_cmd_postfix": ") ",
     "delete_cmd_prefix": "rm(",
     "library": "var_list.r",
     "varRefreshCmd": "cat(var_dic_list()) "
    }
   },
   "types_to_exclude": [
    "module",
    "function",
    "builtin_function_or_method",
    "instance",
    "_Feature"
   ],
   "window_display": false
  }
 },
 "nbformat": 4,
 "nbformat_minor": 5
}
