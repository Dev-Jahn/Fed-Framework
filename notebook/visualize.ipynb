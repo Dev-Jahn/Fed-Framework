{
 "cells": [
  {
   "cell_type": "code",
   "execution_count": null,
   "id": "8d6d2e9f",
   "metadata": {
    "collapsed": true
   },
   "outputs": [],
   "source": []
  },
  {
   "cell_type": "code",
   "execution_count": 1,
   "id": "94ac3f6d",
   "metadata": {
    "ExecuteTime": {
     "end_time": "2022-03-30T06:51:37.350069Z",
     "start_time": "2022-03-30T06:51:37.346955Z"
    }
   },
   "outputs": [
    {
     "name": "stdout",
     "output_type": "stream",
     "text": [
      "/home/jahn/workspace/Fed-Framework\n"
     ]
    }
   ],
   "source": [
    "import os\n",
    "\n",
    "os.chdir('..')\n",
    "print(os.getcwd())"
   ]
  },
  {
   "cell_type": "code",
   "execution_count": 8,
   "id": "041ebbdf",
   "metadata": {
    "ExecuteTime": {
     "end_time": "2022-03-30T07:14:02.937188Z",
     "start_time": "2022-03-30T07:14:02.934652Z"
    }
   },
   "outputs": [],
   "source": [
    "import torch\n",
    "from torchvision.datasets import CIFAR10\n",
    "from torchvision import transforms as transforms\n",
    "from sklearn.manifold import TSNE\n",
    "from models.wideresnet import WideResNet"
   ]
  },
  {
   "cell_type": "code",
   "execution_count": 12,
   "id": "28284a44",
   "metadata": {
    "ExecuteTime": {
     "end_time": "2022-04-06T04:10:59.761517Z",
     "start_time": "2022-04-06T04:10:59.758323Z"
    }
   },
   "outputs": [
    {
     "data": {
      "text/plain": [
       "torch.nn.modules.activation.ReLU"
      ]
     },
     "execution_count": 12,
     "metadata": {},
     "output_type": "execute_result"
    }
   ],
   "source": [
    "torch.nn.__dict__['ReLU']"
   ]
  },
  {
   "cell_type": "code",
   "execution_count": 4,
   "id": "9ad55d7c",
   "metadata": {
    "ExecuteTime": {
     "end_time": "2022-03-30T07:08:06.701407Z",
     "start_time": "2022-03-30T07:08:06.699016Z"
    }
   },
   "outputs": [],
   "source": [
    "from metrics.similarity import kernel_CKA"
   ]
  },
  {
   "cell_type": "code",
   "execution_count": null,
   "id": "17426a81",
   "metadata": {},
   "outputs": [],
   "source": [
    "kernel_CKA()"
   ]
  },
  {
   "cell_type": "code",
   "execution_count": 9,
   "id": "32f02cca",
   "metadata": {
    "ExecuteTime": {
     "end_time": "2022-03-30T07:14:10.611175Z",
     "start_time": "2022-03-30T07:14:04.132798Z"
    }
   },
   "outputs": [
    {
     "data": {
      "text/plain": [
       "<All keys matched successfully>"
      ]
     },
     "execution_count": 9,
     "metadata": {},
     "output_type": "execute_result"
    }
   ],
   "source": [
    "client0 = WideResNet(28, 10, widen_factor=10)\n",
    "client0.load_state_dict(torch.load('./ckpt/220330-14-15-43_WRN-28-10-CE_comm030-epoch010-CLIENT00.pt'))\n",
    "global_ = WideResNet(28, 10, widen_factor=10)\n",
    "global_.load_state_dict(torch.load('./ckpt/220330-14-38-09_WRN-28-10-CE_comm030-GLOBAL.pt'))"
   ]
  },
  {
   "cell_type": "code",
   "execution_count": 4,
   "id": "4e5d1c55",
   "metadata": {
    "ExecuteTime": {
     "end_time": "2022-03-30T06:41:16.953440Z",
     "start_time": "2022-03-30T06:41:16.517061Z"
    }
   },
   "outputs": [],
   "source": [
    "testset = CIFAR10('~/data', train=False, transform=transforms.ToTensor(),)"
   ]
  },
  {
   "cell_type": "code",
   "execution_count": null,
   "id": "85033dc7",
   "metadata": {},
   "outputs": [],
   "source": [
    "testset"
   ]
  },
  {
   "cell_type": "code",
   "execution_count": null,
   "id": "7603a165",
   "metadata": {},
   "outputs": [],
   "source": []
  }
 ],
 "metadata": {
  "kernelspec": {
   "display_name": "torch110",
   "language": "python",
   "name": "torch-1.10.1"
  },
  "language_info": {
   "codemirror_mode": {
    "name": "ipython",
    "version": 3
   },
   "file_extension": ".py",
   "mimetype": "text/x-python",
   "name": "python",
   "nbconvert_exporter": "python",
   "pygments_lexer": "ipython3",
   "version": "3.9.7"
  }
 },
 "nbformat": 4,
 "nbformat_minor": 5
}
