{
 "cells": [
  {
   "cell_type": "code",
   "execution_count": 1,
   "id": "7949e258-1c92-459a-838a-737633919eb3",
   "metadata": {
    "execution": {
     "iopub.execute_input": "2023-04-04T09:00:53.974231Z",
     "iopub.status.busy": "2023-04-04T09:00:53.973930Z",
     "iopub.status.idle": "2023-04-04T09:00:55.938617Z",
     "shell.execute_reply": "2023-04-04T09:00:55.937938Z",
     "shell.execute_reply.started": "2023-04-04T09:00:53.974219Z"
    },
    "tags": []
   },
   "outputs": [],
   "source": [
    "import os\n",
    "import sys\n",
    "\n",
    "import numpy as np\n",
    "import torch\n",
    "from torch import nn, autograd, optim\n",
    "from torch.nn import functional as F\n",
    "from torch.utils.data import DataLoader, Subset\n",
    "from torchvision.models import efficientnet_v2_l, EfficientNet_V2_L_Weights\n",
    "from torchvision.datasets import CIFAR10\n",
    "import torchvision.transforms as T\n",
    "from sklearn.metrics import accuracy_score\n",
    "from sklearn.model_selection import train_test_split\n",
    "from tqdm import trange\n",
    "import wandb\n",
    "from torchsummary import summary\n",
    "\n",
    "sys.path.append(os.path.dirname(os.getcwd()))\n",
    "from pyfed.models.cnns import SimpleCNN\n",
    "from pyfed.metrics.hessian import Hessian\n",
    "from pyfed.metrics.basic import ClassificationMetrics\n",
    "from pyfed.utils import set_random_state"
   ]
  },
  {
   "cell_type": "code",
   "execution_count": 6,
   "id": "188fe436-0270-40ab-80ba-a1b009a9f6e7",
   "metadata": {
    "execution": {
     "iopub.execute_input": "2023-04-04T09:06:21.422949Z",
     "iopub.status.busy": "2023-04-04T09:06:21.422697Z",
     "iopub.status.idle": "2023-04-04T09:06:25.763445Z",
     "shell.execute_reply": "2023-04-04T09:06:25.762954Z",
     "shell.execute_reply.started": "2023-04-04T09:06:21.422939Z"
    },
    "tags": []
   },
   "outputs": [
    {
     "data": {
      "text/html": [
       "Waiting for W&B process to finish... <strong style=\"color:green\">(success).</strong>"
      ],
      "text/plain": [
       "<IPython.core.display.HTML object>"
      ]
     },
     "metadata": {},
     "output_type": "display_data"
    },
    {
     "data": {
      "text/html": [
       " View run <strong style=\"color:#cdcd00\">test</strong> at: <a href='https://wandb.ai/iislab-official/Fed-Framework-notebooks/runs/6x6j1otp' target=\"_blank\">https://wandb.ai/iislab-official/Fed-Framework-notebooks/runs/6x6j1otp</a><br/>Synced 6 W&B file(s), 0 media file(s), 0 artifact file(s) and 0 other file(s)"
      ],
      "text/plain": [
       "<IPython.core.display.HTML object>"
      ]
     },
     "metadata": {},
     "output_type": "display_data"
    },
    {
     "data": {
      "text/html": [
       "Find logs at: <code>./wandb/run-20230404_180103-6x6j1otp/logs</code>"
      ],
      "text/plain": [
       "<IPython.core.display.HTML object>"
      ]
     },
     "metadata": {},
     "output_type": "display_data"
    }
   ],
   "source": [
    "wandb.run.finish()"
   ]
  },
  {
   "cell_type": "code",
   "execution_count": 2,
   "id": "8f5992c3-9ac9-4fa6-b743-2f28a65dcac3",
   "metadata": {
    "execution": {
     "iopub.execute_input": "2023-04-04T08:47:52.305974Z",
     "iopub.status.busy": "2023-04-04T08:47:52.305802Z",
     "iopub.status.idle": "2023-04-04T08:47:52.308935Z",
     "shell.execute_reply": "2023-04-04T08:47:52.308416Z",
     "shell.execute_reply.started": "2023-04-04T08:47:52.305964Z"
    },
    "tags": []
   },
   "outputs": [],
   "source": [
    "project = 'hessian_distill'\n",
    "run_sweep = False\n",
    "\n",
    "# if wannna run sweep\n",
    "sweep_config = {\n",
    "    'method': 'bayes',\n",
    "    'name': 'sweep',\n",
    "    'metric': {\n",
    "        'goal': 'maximize', \n",
    "        'name': 'test.accuracy'\n",
    "    },\n",
    "    'early_terminate':{\n",
    "        'type':'hyperband',\n",
    "        'min_iter':2,\n",
    "        'eta':2,\n",
    "    },\n",
    "    'parameters': {\n",
    "        'batch_size': {'values': [32, 64]},\n",
    "        'lr': {'max': 1e-1, 'min': 1e-5, 'distribution':'log_uniform_values'},\n",
    "        'weight_decay': {'max': 1e-3, 'min': 1e-6, 'distribution':'log_uniform_values'},\n",
    "        'momentum': {'max': 0.999, 'min': 0.7, 'distribution':'log_uniform_values'},\n",
    "     },\n",
    "}"
   ]
  },
  {
   "cell_type": "code",
   "execution_count": 3,
   "id": "6eb828b5-cf11-44e6-8375-a818abc0307b",
   "metadata": {
    "execution": {
     "iopub.execute_input": "2023-04-04T08:47:52.309741Z",
     "iopub.status.busy": "2023-04-04T08:47:52.309533Z",
     "iopub.status.idle": "2023-04-04T08:47:53.627998Z",
     "shell.execute_reply": "2023-04-04T08:47:53.627484Z",
     "shell.execute_reply.started": "2023-04-04T08:47:52.309728Z"
    },
    "tags": []
   },
   "outputs": [],
   "source": [
    "configs = {\n",
    "    'seed':42,\n",
    "    'device':'cuda:0',\n",
    "    'pretrained':True,\n",
    "    'ckpt_every':10,\n",
    "    'ckpt_path':os.path.join('/home/jahn/ckpt', project),\n",
    "    'arch':efficientnet_v2_l,\n",
    "    'epoch':30,\n",
    "    'batch_size':64,\n",
    "    'lr': 1e-3,\n",
    "    'weight_decay':1e-5,\n",
    "    'momentum':0.9,\n",
    "    'amp':True,\n",
    "}\n",
    "assert os.path.isdir(configs['ckpt_path']), f'Make directory for saving checkpoints at {configs[\"ckpt_path\"]}'\n",
    "\n",
    "mean, std = [0.49139968, 0.48215827 ,0.44653124], [0.24703233, 0.24348505, 0.26158768]\n",
    "trainset = CIFAR10(\n",
    "    '~/data', train=True,\n",
    "    transform=T.Compose([\n",
    "        T.Resize((224,224)),\n",
    "        T.RandomHorizontalFlip(),\n",
    "        T.RandomRotation(90),\n",
    "        T.ToTensor(),\n",
    "        T.Normalize(mean=mean, std=std)])\n",
    ")\n",
    "teacher_idx, student_idx = train_test_split(range(len(trainset)), test_size=0.2, random_state=configs['seed'], stratify=trainset.targets)\n",
    "teacherset = Subset(trainset, teacher_idx)\n",
    "testset = CIFAR10(\n",
    "    '~/data', train=False,\n",
    "    transform=T.Compose([\n",
    "        T.Resize((224,224)),\n",
    "        T.ToTensor(),\n",
    "        T.Normalize(mean=mean, std=std)])\n",
    ")"
   ]
  },
  {
   "cell_type": "code",
   "execution_count": 4,
   "id": "36b3592d-fb8b-40af-a2be-865eb273b6dc",
   "metadata": {
    "execution": {
     "iopub.execute_input": "2023-04-04T08:47:53.628674Z",
     "iopub.status.busy": "2023-04-04T08:47:53.628554Z",
     "iopub.status.idle": "2023-04-04T08:47:53.630930Z",
     "shell.execute_reply": "2023-04-04T08:47:53.630496Z",
     "shell.execute_reply.started": "2023-04-04T08:47:53.628665Z"
    },
    "tags": []
   },
   "outputs": [],
   "source": [
    "device = torch.device(configs['device'])\n",
    "metrics = ClassificationMetrics(n_classes=10, average=None)"
   ]
  },
  {
   "cell_type": "code",
   "execution_count": 5,
   "id": "714ba1cf-4e4a-44df-b346-4a5aeafb837c",
   "metadata": {
    "execution": {
     "iopub.execute_input": "2023-04-04T08:47:53.631563Z",
     "iopub.status.busy": "2023-04-04T08:47:53.631387Z",
     "iopub.status.idle": "2023-04-04T08:47:53.639430Z",
     "shell.execute_reply": "2023-04-04T08:47:53.639003Z",
     "shell.execute_reply.started": "2023-04-04T08:47:53.631552Z"
    },
    "tags": []
   },
   "outputs": [],
   "source": [
    "def train():\n",
    "    # Initial setups\n",
    "    set_random_state(configs['seed'])\n",
    "    net = configs['arch'](weights=EfficientNet_V2_L_Weights.DEFAULT if configs['pretrained'] else None)\n",
    "    # Replace fc layer\n",
    "    if list(net.modules())[-1].out_features != len(trainset.classes):\n",
    "        fc_name = list(net.named_children())[-1][0]\n",
    "        assert fc_name in ['fc', 'classifier'], 'This case is not considered. Reimplement this part'\n",
    "        outdim = len(trainset.classes)\n",
    "        if fc_name == 'fc':\n",
    "            setattr(net, fc_name, nn.Linear(net.fc.in_features, outdim, bias=True))\n",
    "        elif fc_name == 'classifier':\n",
    "            net.classifier[1] = nn.Linear(net.classifier[1].in_features, outdim, bias=True)\n",
    "    init_state = net.state_dict()\n",
    "    net.to(device)\n",
    "    \n",
    "    if run_sweep:\n",
    "        run = wandb.init(config=configs)\n",
    "        run.config.update(wandb.config)\n",
    "    else:\n",
    "        group = 'train'\n",
    "        name = f'{net.__class__.__name__}_teacher'\n",
    "        tags = [net.__class__.__name__, trainset.__class__.__name__]\n",
    "        run = wandb.init(group=group, job_type='train', project=project, tags=tags, name=name, config=configs)\n",
    "        \n",
    "    trainloader = DataLoader(teacherset, batch_size=run.config['batch_size'], shuffle=True, num_workers=4)\n",
    "    testloader = DataLoader(testset, batch_size=run.config['batch_size'], shuffle=False, num_workers=4)\n",
    "    \n",
    "    criterion = nn.CrossEntropyLoss()\n",
    "    optimizer = optim.RMSprop(net.parameters(), lr=run.config['lr'], momentum=run.config['momentum'], weight_decay=run.config['weight_decay'])\n",
    "    scaler = torch.cuda.amp.GradScaler(enabled=run.config['amp'])\n",
    "\n",
    "    \n",
    "    # training\n",
    "    for e in (pbar:=trange(1,run.config['epoch']+1)):\n",
    "        net.train()\n",
    "        metrics.reset()\n",
    "        for b, (data, target) in enumerate(trainloader):\n",
    "            pbar.set_description(f'[train]|[{b:>4}/{len(trainloader):>4}]')\n",
    "            data, target = data.to(device), target.to(device)\n",
    "            with torch.autocast(device_type=device.type, enabled=run.config['amp']):\n",
    "                output = net(data)\n",
    "                loss = criterion(output, target)\n",
    "            optimizer.zero_grad()\n",
    "            scaler.scale(loss).backward()\n",
    "            scaler.step(optimizer)\n",
    "            scaler.update()\n",
    "            # Calc metrics\n",
    "            targetcpu = target.cpu().numpy()\n",
    "            predcpu = output.argmax(1).cpu().detach().numpy()\n",
    "            metrics.update(targetcpu, predcpu)\n",
    "        run.log({'train':{\n",
    "            'accuracy':metrics.accuracy(),\n",
    "            'precision':{trainset.classes[k]:v for k, v in enumerate(metrics.precision())},\n",
    "            'recall':{trainset.classes[k]:v for k, v in enumerate(metrics.recall())},\n",
    "            'f1':{trainset.classes[k]:v for k, v in enumerate(metrics.f1())},\n",
    "        }}, commit=False)\n",
    "        net.eval()\n",
    "        metrics.reset()\n",
    "        with torch.no_grad():\n",
    "            for b, (data, target) in enumerate(testloader):\n",
    "                pbar.set_description(f'[test]|[{b:>4}/{len(testloader):>4}]')\n",
    "                data, target = data.to(device), target.to(device)\n",
    "                with torch.autocast(device_type=device.type, enabled=run.config['amp']):\n",
    "                    output = net(data)\n",
    "                # Calc metrics\n",
    "                targetcpu = target.cpu().numpy()\n",
    "                predcpu = output.argmax(1).cpu().detach().numpy()\n",
    "                metrics.update(targetcpu, predcpu)\n",
    "        run.log(dict({'test':{\n",
    "            'accuracy':metrics.accuracy(),\n",
    "            'precision':{trainset.classes[k]:v for k, v in enumerate(metrics.precision())},\n",
    "            'recall':{trainset.classes[k]:v for k, v in enumerate(metrics.recall())},\n",
    "            'f1':{trainset.classes[k]:v for k, v in enumerate(metrics.f1())},\n",
    "        }}, **{'epoch': e}))\n",
    "        # Checkpointing\n",
    "        if e%run.config['ckpt_every']==0:\n",
    "            formatter = f'>0{len(str(run.config[\"epoch\"]))}'\n",
    "            torch.save(net.state_dict(), os.path.join(run.config['ckpt_path'], f'{name}_epoch{e:{formatter}}.pth'))\n",
    "    del net\n",
    "    torch.cuda.empty_cache()\n",
    "    run.finish()"
   ]
  },
  {
   "cell_type": "code",
   "execution_count": null,
   "id": "900a9b0b-0186-4fc6-9edb-f1d543bf68aa",
   "metadata": {
    "execution": {
     "iopub.execute_input": "2023-04-04T08:47:53.640870Z",
     "iopub.status.busy": "2023-04-04T08:47:53.640039Z"
    },
    "tags": []
   },
   "outputs": [
    {
     "name": "stderr",
     "output_type": "stream",
     "text": [
      "Failed to detect the name of this notebook, you can set it manually with the WANDB_NOTEBOOK_NAME environment variable to enable code saving.\n"
     ]
    },
    {
     "name": "stdout",
     "output_type": "stream",
     "text": [
      "Create sweep with ID: t18d5uyh\n",
      "Sweep URL: https://wandb.ai/iislab-official/hessian_distill/sweeps/t18d5uyh\n"
     ]
    },
    {
     "name": "stderr",
     "output_type": "stream",
     "text": [
      "\u001b[34m\u001b[1mwandb\u001b[0m: Agent Starting Run: uyz2gm0v with config:\n",
      "\u001b[34m\u001b[1mwandb\u001b[0m: \tbatch_size: 32\n",
      "\u001b[34m\u001b[1mwandb\u001b[0m: \tlr: 0.02440151032753152\n",
      "\u001b[34m\u001b[1mwandb\u001b[0m: \tmomentum: 0.8075485670158714\n",
      "\u001b[34m\u001b[1mwandb\u001b[0m: \tweight_decay: 4.1057289263300016e-05\n",
      "Failed to detect the name of this notebook, you can set it manually with the WANDB_NOTEBOOK_NAME environment variable to enable code saving.\n",
      "\u001b[34m\u001b[1mwandb\u001b[0m: Currently logged in as: \u001b[33mdev-jahn\u001b[0m (\u001b[33miislab-official\u001b[0m). Use \u001b[1m`wandb login --relogin`\u001b[0m to force relogin\n"
     ]
    },
    {
     "data": {
      "text/html": [
       "Tracking run with wandb version 0.14.0"
      ],
      "text/plain": [
       "<IPython.core.display.HTML object>"
      ]
     },
     "metadata": {},
     "output_type": "display_data"
    },
    {
     "data": {
      "text/html": [
       "Run data is saved locally in <code>/mnt/c/Users/ajh50/workspace/Fed-Framework/notebooks/wandb/run-20230404_174759-uyz2gm0v</code>"
      ],
      "text/plain": [
       "<IPython.core.display.HTML object>"
      ]
     },
     "metadata": {},
     "output_type": "display_data"
    },
    {
     "data": {
      "text/html": [
       "Syncing run <strong><a href='https://wandb.ai/iislab-official/hessian_distill/runs/uyz2gm0v' target=\"_blank\">bumbling-sweep-1</a></strong> to <a href='https://wandb.ai/iislab-official/hessian_distill' target=\"_blank\">Weights & Biases</a> (<a href='https://wandb.me/run' target=\"_blank\">docs</a>)<br/>Sweep page: <a href='https://wandb.ai/iislab-official/hessian_distill/sweeps/t18d5uyh' target=\"_blank\">https://wandb.ai/iislab-official/hessian_distill/sweeps/t18d5uyh</a>"
      ],
      "text/plain": [
       "<IPython.core.display.HTML object>"
      ]
     },
     "metadata": {},
     "output_type": "display_data"
    },
    {
     "data": {
      "text/html": [
       " View project at <a href='https://wandb.ai/iislab-official/hessian_distill' target=\"_blank\">https://wandb.ai/iislab-official/hessian_distill</a>"
      ],
      "text/plain": [
       "<IPython.core.display.HTML object>"
      ]
     },
     "metadata": {},
     "output_type": "display_data"
    },
    {
     "data": {
      "text/html": [
       " View sweep at <a href='https://wandb.ai/iislab-official/hessian_distill/sweeps/t18d5uyh' target=\"_blank\">https://wandb.ai/iislab-official/hessian_distill/sweeps/t18d5uyh</a>"
      ],
      "text/plain": [
       "<IPython.core.display.HTML object>"
      ]
     },
     "metadata": {},
     "output_type": "display_data"
    },
    {
     "data": {
      "text/html": [
       " View run at <a href='https://wandb.ai/iislab-official/hessian_distill/runs/uyz2gm0v' target=\"_blank\">https://wandb.ai/iislab-official/hessian_distill/runs/uyz2gm0v</a>"
      ],
      "text/plain": [
       "<IPython.core.display.HTML object>"
      ]
     },
     "metadata": {},
     "output_type": "display_data"
    },
    {
     "name": "stderr",
     "output_type": "stream",
     "text": [
      "[train]|[  54/1250]:  13%|███████                                              | 4/30 [12:09<1:18:05, 180.21s/it]"
     ]
    }
   ],
   "source": [
    "run_sweep = True\n",
    "sweep_id = '' or wandb.sweep(sweep_config, project=project)\n",
    "wandb.agent(sweep_id=sweep_id, function=train, count=100)"
   ]
  },
  {
   "cell_type": "code",
   "execution_count": null,
   "id": "0b2e381f-529e-4586-a263-d114f6ca8136",
   "metadata": {},
   "outputs": [],
   "source": [
    "\n",
    "\n",
    "\n",
    "\n",
    "\n",
    "\n",
    "\n",
    "\n",
    "\n",
    "\n",
    "\n",
    "\n",
    "\n",
    "\n",
    "\n"
   ]
  },
  {
   "cell_type": "code",
   "execution_count": null,
   "id": "084ab472-7952-4ccd-acab-3cc1f2f29ab2",
   "metadata": {},
   "outputs": [],
   "source": []
  }
 ],
 "metadata": {
  "kernelspec": {
   "display_name": "torch_nightly",
   "language": "python",
   "name": "torch_nightly"
  },
  "language_info": {
   "codemirror_mode": {
    "name": "ipython",
    "version": 3
   },
   "file_extension": ".py",
   "mimetype": "text/x-python",
   "name": "python",
   "nbconvert_exporter": "python",
   "pygments_lexer": "ipython3",
   "version": "3.11.0"
  }
 },
 "nbformat": 4,
 "nbformat_minor": 5
}
