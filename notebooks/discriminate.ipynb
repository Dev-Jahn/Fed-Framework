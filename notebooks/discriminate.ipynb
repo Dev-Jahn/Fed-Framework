{
 "cells": [
  {
   "cell_type": "code",
   "execution_count": 1,
   "id": "b082f038-44d4-4bf8-8027-a931a0a2ea48",
   "metadata": {
    "execution": {
     "iopub.execute_input": "2023-02-17T03:43:19.156546Z",
     "iopub.status.busy": "2023-02-17T03:43:19.156285Z",
     "iopub.status.idle": "2023-02-17T03:43:19.988545Z",
     "shell.execute_reply": "2023-02-17T03:43:19.988176Z",
     "shell.execute_reply.started": "2023-02-17T03:43:19.156534Z"
    },
    "tags": []
   },
   "outputs": [],
   "source": [
    "import os\n",
    "import sys\n",
    "\n",
    "import torch\n",
    "from torch import nn, autograd\n",
    "from torch.nn import functional as F\n",
    "from torch.utils.data import DataLoader\n",
    "from torchvision.models import resnet18\n",
    "from torchvision.datasets import CIFAR10\n",
    "from torchvision.transforms import ToTensor"
   ]
  },
  {
   "cell_type": "code",
   "execution_count": null,
   "id": "6666aa4a-b107-4b48-b462-50bef00491df",
   "metadata": {},
   "outputs": [],
   "source": []
  }
 ],
 "metadata": {
  "kernelspec": {
   "display_name": "torch_nightly",
   "language": "python",
   "name": "torch_nightly"
  },
  "language_info": {
   "codemirror_mode": {
    "name": "ipython",
    "version": 3
   },
   "file_extension": ".py",
   "mimetype": "text/x-python",
   "name": "python",
   "nbconvert_exporter": "python",
   "pygments_lexer": "ipython3",
   "version": "3.11.0"
  }
 },
 "nbformat": 4,
 "nbformat_minor": 5
}
