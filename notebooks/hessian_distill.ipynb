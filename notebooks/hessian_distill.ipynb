{
 "cells": [
  {
   "cell_type": "code",
   "execution_count": 1,
   "id": "6d565c8a-90c9-4a1c-adc0-f9a3ea91387f",
   "metadata": {
    "execution": {
     "iopub.execute_input": "2023-03-30T19:07:26.276383Z",
     "iopub.status.busy": "2023-03-30T19:07:26.276216Z",
     "iopub.status.idle": "2023-03-30T19:07:27.700630Z",
     "shell.execute_reply": "2023-03-30T19:07:27.700154Z",
     "shell.execute_reply.started": "2023-03-30T19:07:26.276373Z"
    },
    "tags": []
   },
   "outputs": [],
   "source": [
    "import os\n",
    "import sys\n",
    "\n",
    "import numpy as np\n",
    "import torch\n",
    "from torch import nn, autograd, optim\n",
    "from torch.nn import functional as F\n",
    "from torch.utils.data import DataLoader\n",
    "from torchvision.models import efficientnet_v2_l\n",
    "from torchvision.datasets import CIFAR10\n",
    "import torchvision.transforms as T\n",
    "from sklearn.metrics import accuracy_score\n",
    "from tqdm import trange\n",
    "import wandb\n",
    "from torchsummary import summary"
   ]
  },
  {
   "cell_type": "code",
   "execution_count": 3,
   "id": "7a1c22dd-190b-44d1-be3a-fe2f0205f631",
   "metadata": {
    "execution": {
     "iopub.execute_input": "2023-03-30T19:08:08.004236Z",
     "iopub.status.busy": "2023-03-30T19:08:08.004074Z",
     "iopub.status.idle": "2023-03-30T19:08:08.181236Z",
     "shell.execute_reply": "2023-03-30T19:08:08.180606Z",
     "shell.execute_reply.started": "2023-03-30T19:08:08.004227Z"
    },
    "tags": []
   },
   "outputs": [
    {
     "ename": "ImportError",
     "evalue": "cannot import name 'lr_lru_cache_wrapper' from 'functools' (/home/jahn/anaconda3/envs/torch_nightly/lib/python3.11/functools.py)",
     "output_type": "error",
     "traceback": [
      "\u001b[0;31m---------------------------------------------------------------------------\u001b[0m",
      "\u001b[0;31mImportError\u001b[0m                               Traceback (most recent call last)",
      "Cell \u001b[0;32mIn[3], line 4\u001b[0m\n\u001b[1;32m      2\u001b[0m \u001b[38;5;28;01mfrom\u001b[39;00m \u001b[38;5;21;01mpyfed\u001b[39;00m\u001b[38;5;21;01m.\u001b[39;00m\u001b[38;5;21;01mmodels\u001b[39;00m\u001b[38;5;21;01m.\u001b[39;00m\u001b[38;5;21;01mcnns\u001b[39;00m \u001b[38;5;28;01mimport\u001b[39;00m SimpleCNN\n\u001b[1;32m      3\u001b[0m \u001b[38;5;28;01mfrom\u001b[39;00m \u001b[38;5;21;01mpyfed\u001b[39;00m\u001b[38;5;21;01m.\u001b[39;00m\u001b[38;5;21;01mmetrics\u001b[39;00m\u001b[38;5;21;01m.\u001b[39;00m\u001b[38;5;21;01mhessian\u001b[39;00m \u001b[38;5;28;01mimport\u001b[39;00m Hessian\n\u001b[0;32m----> 4\u001b[0m \u001b[38;5;28;01mfrom\u001b[39;00m \u001b[38;5;21;01mpyfed\u001b[39;00m\u001b[38;5;21;01m.\u001b[39;00m\u001b[38;5;21;01mmetrics\u001b[39;00m\u001b[38;5;21;01m.\u001b[39;00m\u001b[38;5;21;01mbasic\u001b[39;00m \u001b[38;5;28;01mimport\u001b[39;00m ClassificationMetrics\n",
      "File \u001b[0;32m/mnt/c/Users/ajh50/workspace/Fed-Framework/pyfed/metrics/basic.py:1\u001b[0m\n\u001b[0;32m----> 1\u001b[0m \u001b[38;5;28;01mfrom\u001b[39;00m \u001b[38;5;21;01mfunctools\u001b[39;00m \u001b[38;5;28;01mimport\u001b[39;00m cache, lr_lru_cache_wrapper\n\u001b[1;32m      3\u001b[0m \u001b[38;5;28;01mimport\u001b[39;00m \u001b[38;5;21;01mnumpy\u001b[39;00m \u001b[38;5;28;01mas\u001b[39;00m \u001b[38;5;21;01mnp\u001b[39;00m\n\u001b[1;32m      4\u001b[0m \u001b[38;5;28;01mimport\u001b[39;00m \u001b[38;5;21;01mtorch\u001b[39;00m\n",
      "\u001b[0;31mImportError\u001b[0m: cannot import name 'lr_lru_cache_wrapper' from 'functools' (/home/jahn/anaconda3/envs/torch_nightly/lib/python3.11/functools.py)"
     ]
    }
   ],
   "source": [
    "sys.path.append(os.path.dirname(os.getcwd()))\n",
    "from pyfed.models.cnns import SimpleCNN\n",
    "from pyfed.metrics.hessian import Hessian\n",
    "from pyfed.metrics.basic import ClassificationMetrics"
   ]
  },
  {
   "cell_type": "code",
   "execution_count": 2,
   "id": "1b22c005-a12e-4ddb-99df-d82b8de83353",
   "metadata": {
    "execution": {
     "iopub.execute_input": "2023-03-30T18:43:20.124875Z",
     "iopub.status.busy": "2023-03-30T18:43:20.124699Z",
     "iopub.status.idle": "2023-03-30T18:43:21.685719Z",
     "shell.execute_reply": "2023-03-30T18:43:21.685280Z",
     "shell.execute_reply.started": "2023-03-30T18:43:20.124866Z"
    },
    "tags": []
   },
   "outputs": [],
   "source": [
    "configs = {\n",
    "    'seed':42,\n",
    "    'epoch':100,\n",
    "    'device':'cuda:0',\n",
    "    'arch':efficientnet_v2_l,\n",
    "}\n",
    "mean, std = [0.49139968, 0.48215827 ,0.44653124], [0.24703233, 0.24348505, 0.26158768]\n",
    "trainset = CIFAR10(\n",
    "    '~/data', train=True,\n",
    "    transform=T.Compose([\n",
    "        T.RandomHorizontalFlip(),\n",
    "        T.RandomRotation(90),\n",
    "        T.Normalize(mean=mean, std=std),\n",
    "        T.ToTensor()])\n",
    ")\n",
    "testset = CIFAR10(\n",
    "    '~/data', train=False,\n",
    "    transform=T.Compose([T.Normalize(mean=mean, std=std), T.ToTensor()])\n",
    ")\n",
    "trainloader = DataLoader(trainset, batch_size=32, shuffle=True, num_workers=4)\n",
    "testloader = DataLoader(testset, batch_size=32, shuffle=False, num_workers=4)"
   ]
  },
  {
   "cell_type": "code",
   "execution_count": 4,
   "id": "90c27d3d-142e-4158-a4d9-6f587a132450",
   "metadata": {
    "execution": {
     "iopub.execute_input": "2023-03-30T18:43:26.281168Z",
     "iopub.status.busy": "2023-03-30T18:43:26.280725Z",
     "iopub.status.idle": "2023-03-30T18:43:26.288201Z",
     "shell.execute_reply": "2023-03-30T18:43:26.287811Z",
     "shell.execute_reply.started": "2023-03-30T18:43:26.281151Z"
    }
   },
   "outputs": [
    {
     "ename": "NameError",
     "evalue": "name 'ClassificationMetrics' is not defined",
     "output_type": "error",
     "traceback": [
      "\u001b[0;31m---------------------------------------------------------------------------\u001b[0m",
      "\u001b[0;31mNameError\u001b[0m                                 Traceback (most recent call last)",
      "Cell \u001b[0;32mIn[4], line 2\u001b[0m\n\u001b[1;32m      1\u001b[0m device \u001b[38;5;241m=\u001b[39m torch\u001b[38;5;241m.\u001b[39mdevice(configs[\u001b[38;5;124m'\u001b[39m\u001b[38;5;124mdevice\u001b[39m\u001b[38;5;124m'\u001b[39m])\n\u001b[0;32m----> 2\u001b[0m metrics \u001b[38;5;241m=\u001b[39m \u001b[43mClassificationMetrics\u001b[49m(n_classes\u001b[38;5;241m=\u001b[39m\u001b[38;5;241m10\u001b[39m, average\u001b[38;5;241m=\u001b[39m\u001b[38;5;28;01mNone\u001b[39;00m)\n\u001b[1;32m      3\u001b[0m set_random_state(configs[\u001b[38;5;124m'\u001b[39m\u001b[38;5;124mseed\u001b[39m\u001b[38;5;124m'\u001b[39m])\n\u001b[1;32m      5\u001b[0m net \u001b[38;5;241m=\u001b[39m configs[\u001b[38;5;124m'\u001b[39m\u001b[38;5;124march\u001b[39m\u001b[38;5;124m'\u001b[39m]()\n",
      "\u001b[0;31mNameError\u001b[0m: name 'ClassificationMetrics' is not defined"
     ]
    }
   ],
   "source": [
    "device = torch.device(configs['device'])\n",
    "metrics = ClassificationMetrics(n_classes=10, average=None)\n",
    "set_random_state(configs['seed'])\n",
    "\n",
    "net = configs['arch']()\n",
    "init_state = net.state_dict()\n",
    "net.to(device)\n",
    "criterion = nn.CrossEntropyLoss()\n",
    "optimizer = optim.SGD(net.parameters(), lr=1e-1, momentum=0.9, weight_decay=1e-4)\n",
    "scaler = torch.cuda.amp.GradScaler()\n",
    "\n",
    "project = 'hessian_distill'\n",
    "group = 'train'\n",
    "name = f'{net.__class__.__name__}_teacher'\n",
    "tags = [net.__class__.__name__, trainset.__class__.__name__]\n",
    "run = wandb.init(group=group, job_type='train', project=project, tags=tags, name=name, config=configs)"
   ]
  },
  {
   "cell_type": "code",
   "execution_count": null,
   "id": "3a5ca782-a4c1-4be3-a198-4e1591e973e9",
   "metadata": {},
   "outputs": [],
   "source": [
    "for e in trange(configs['epoch']):\n",
    "    net.train()\n",
    "    metrics.reset()\n",
    "    for data, target in trainloader:\n",
    "        data, target = data.to(device), target.to(device)\n",
    "        with torch.cuda.amp.autocast():\n",
    "            output = net(data)\n",
    "            loss = criterion(output, target)\n",
    "        optimizer.zero_grad()\n",
    "        scaler.scale(loss).backward()\n",
    "        scaler.step(optimizer)\n",
    "        scaler.update()\n",
    "        # Calc metrics\n",
    "        targetcpu = target.cpu().numpy()\n",
    "        predcpu = output.argmax(1).cpu().detach().numpy()\n",
    "        metrics.update(targetcpu, predcpu)\n",
    "    run.log(metrics.summary(prefix='Train'), commit=False)\n",
    "    net.eval()\n",
    "    metrics.reset()\n",
    "    with torch.no_grad():\n",
    "        for data, target in testloader:\n",
    "            data, target = data.to(device), target.to(device)\n",
    "            with torch.cuda.amp.autocast():\n",
    "                output = net(data)\n",
    "            # Calc metrics\n",
    "            targetcpu = target.cpu().numpy()\n",
    "            predcpu = output.argmax(1).cpu().detach().numpy()\n",
    "            metrics.update(targetcpu, predcpu)\n",
    "    run.log(dict(metrics.summary(prefix='Test'), **{'epoch': e}))\n",
    "run.finish()\n",
    "torch.save(net.state_dict(), f'{name}.pth')"
   ]
  },
  {
   "cell_type": "code",
   "execution_count": null,
   "id": "0b2e381f-529e-4586-a263-d114f6ca8136",
   "metadata": {},
   "outputs": [],
   "source": [
    "\n",
    "\n",
    "\n",
    "\n",
    "\n",
    "\n",
    "\n",
    "\n",
    "\n",
    "\n",
    "\n",
    "\n",
    "\n",
    "\n",
    "\n"
   ]
  }
 ],
 "metadata": {
  "kernelspec": {
   "display_name": "torch_nightly",
   "language": "python",
   "name": "torch_nightly"
  },
  "language_info": {
   "codemirror_mode": {
    "name": "ipython",
    "version": 3
   },
   "file_extension": ".py",
   "mimetype": "text/x-python",
   "name": "python",
   "nbconvert_exporter": "python",
   "pygments_lexer": "ipython3",
   "version": "3.11.0"
  }
 },
 "nbformat": 4,
 "nbformat_minor": 5
}
