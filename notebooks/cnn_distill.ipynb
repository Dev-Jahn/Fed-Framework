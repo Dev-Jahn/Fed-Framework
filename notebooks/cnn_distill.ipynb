{
 "cells": [
  {
   "cell_type": "code",
   "execution_count": 1,
   "id": "c940113e-82d1-4777-ae4d-273c3b7f0cca",
   "metadata": {
    "execution": {
     "iopub.execute_input": "2023-03-10T06:28:34.239323Z",
     "iopub.status.busy": "2023-03-10T06:28:34.239217Z",
     "iopub.status.idle": "2023-03-10T06:28:36.533076Z",
     "shell.execute_reply": "2023-03-10T06:28:36.532358Z",
     "shell.execute_reply.started": "2023-03-10T06:28:34.239315Z"
    },
    "tags": []
   },
   "outputs": [],
   "source": [
    "import os\n",
    "import sys\n",
    "\n",
    "import numpy as np\n",
    "import torch\n",
    "from torch import nn, autograd, optim\n",
    "from torch.nn import functional as F\n",
    "from torch.utils.data import DataLoader\n",
    "from torchvision.models import efficientnet_v2_l, EfficientNet_V2_L_Weights\n",
    "from torchvision.datasets import CIFAR10\n",
    "import torchvision.transforms as T\n",
    "from sklearn.metrics import accuracy_score\n",
    "import tqdm\n",
    "import wandb\n",
    "\n",
    "sys.path.append(os.path.dirname(os.getcwd()))\n",
    "from pyfed.models.cnns import SimpleCNN"
   ]
  },
  {
   "cell_type": "code",
   "execution_count": 2,
   "id": "7e53fbb4-42fe-4f06-8fe6-ee9b8708e6d7",
   "metadata": {
    "execution": {
     "iopub.execute_input": "2023-03-10T06:28:36.556732Z",
     "iopub.status.busy": "2023-03-10T06:28:36.556613Z",
     "iopub.status.idle": "2023-03-10T06:28:36.559086Z",
     "shell.execute_reply": "2023-03-10T06:28:36.558668Z",
     "shell.execute_reply.started": "2023-03-10T06:28:36.556723Z"
    },
    "tags": []
   },
   "outputs": [],
   "source": [
    "name = 'cnn-scratch-simpleaug'\n",
    "EPOCH = 100\n",
    "LR = 1e-3\n",
    "FREEZE = 0"
   ]
  },
  {
   "cell_type": "code",
   "execution_count": 3,
   "id": "7d3bde2d-950f-412d-974a-a2d7df85305a",
   "metadata": {
    "execution": {
     "iopub.execute_input": "2023-03-07T05:04:21.294804Z",
     "iopub.status.busy": "2023-03-07T05:04:21.294578Z",
     "iopub.status.idle": "2023-03-07T05:04:23.309511Z",
     "shell.execute_reply": "2023-03-07T05:04:23.308959Z",
     "shell.execute_reply.started": "2023-03-07T05:04:21.294790Z"
    },
    "tags": []
   },
   "outputs": [],
   "source": [
    "net = efficientnet_v2_l(weights=EfficientNet_V2_L_Weights.DEFAULT)\n",
    "net.classifier[-1] = nn.Linear(net.classifier[-1].in_features, 10)\n",
    "for module in net.features[:-FREEZE]:\n",
    "    module.requires_grad_(False)\n",
    "net = net.cuda()"
   ]
  },
  {
   "cell_type": "code",
   "execution_count": 3,
   "id": "e6835347-2e95-4563-8544-c621fab6dd08",
   "metadata": {
    "execution": {
     "iopub.execute_input": "2023-03-10T06:28:38.440192Z",
     "iopub.status.busy": "2023-03-10T06:28:38.439685Z",
     "iopub.status.idle": "2023-03-10T06:28:41.247556Z",
     "shell.execute_reply": "2023-03-10T06:28:41.246865Z",
     "shell.execute_reply.started": "2023-03-10T06:28:38.440167Z"
    },
    "tags": []
   },
   "outputs": [],
   "source": [
    "net = SimpleCNN().cuda()"
   ]
  },
  {
   "cell_type": "code",
   "execution_count": 4,
   "id": "2d683ed9-9458-4e96-ad89-8557fc0415df",
   "metadata": {
    "execution": {
     "iopub.execute_input": "2023-03-10T06:28:48.953233Z",
     "iopub.status.busy": "2023-03-10T06:28:48.953027Z",
     "iopub.status.idle": "2023-03-10T06:28:50.469693Z",
     "shell.execute_reply": "2023-03-10T06:28:50.469119Z",
     "shell.execute_reply.started": "2023-03-10T06:28:48.953221Z"
    },
    "tags": []
   },
   "outputs": [],
   "source": [
    "mean = [0.4914, 0.4822, 0.4465]\n",
    "std = [0.2470, 0.2435, 0.2616]\n",
    "trainset = CIFAR10('~/data', train=True, transform=T.Compose([\n",
    "    # T.Resize((224,224)),\n",
    "    T.RandomRotation(90),\n",
    "    T.RandomHorizontalFlip(),\n",
    "    # T.AutoAugment(T.AutoAugmentPolicy.CIFAR10),\n",
    "    T.ToTensor(),\n",
    "    T.Normalize(mean, std),\n",
    "]))\n",
    "trainloader = DataLoader(trainset, batch_size=32, shuffle=True, num_workers=4)\n",
    "testset = CIFAR10('~/data', train=False, transform=T.Compose([\n",
    "    # T.Resize((224,224)),\n",
    "    T.ToTensor(),\n",
    "    T.Normalize(mean,std),\n",
    "]))\n",
    "testloader = DataLoader(testset, batch_size=32, shuffle=False, num_workers=4)"
   ]
  },
  {
   "cell_type": "code",
   "execution_count": 5,
   "id": "efb76c54-ad07-4655-977a-3bd6448be18c",
   "metadata": {
    "execution": {
     "iopub.execute_input": "2023-03-10T06:28:52.368678Z",
     "iopub.status.busy": "2023-03-10T06:28:52.368306Z",
     "iopub.status.idle": "2023-03-10T06:28:52.371490Z",
     "shell.execute_reply": "2023-03-10T06:28:52.371024Z",
     "shell.execute_reply.started": "2023-03-10T06:28:52.368664Z"
    },
    "tags": []
   },
   "outputs": [],
   "source": [
    "criterion = nn.CrossEntropyLoss()\n",
    "optimizer = optim.Adam(filter(lambda x: x.requires_grad, net.parameters()), lr=LR)\n",
    "scaler = torch.cuda.amp.GradScaler()\n",
    "scheduler = optim.lr_scheduler.StepLR(optimizer, step_size=10, gamma=0.9)"
   ]
  },
  {
   "cell_type": "code",
   "execution_count": 6,
   "id": "992b40c0-fcc6-4d0c-9696-fe4881c00910",
   "metadata": {
    "execution": {
     "iopub.execute_input": "2023-03-10T06:28:54.154419Z",
     "iopub.status.busy": "2023-03-10T06:28:54.153953Z",
     "iopub.status.idle": "2023-03-10T06:29:03.037887Z",
     "shell.execute_reply": "2023-03-10T06:29:03.037347Z",
     "shell.execute_reply.started": "2023-03-10T06:28:54.154401Z"
    },
    "tags": []
   },
   "outputs": [
    {
     "name": "stderr",
     "output_type": "stream",
     "text": [
      "Failed to detect the name of this notebook, you can set it manually with the WANDB_NOTEBOOK_NAME environment variable to enable code saving.\n",
      "\u001B[34m\u001B[1mwandb\u001B[0m: Currently logged in as: \u001B[33mdev-jahn\u001B[0m (\u001B[33miislab-official\u001B[0m). Use \u001B[1m`wandb login --relogin`\u001B[0m to force relogin\n"
     ]
    },
    {
     "data": {
      "text/html": [
       "wandb version 0.13.11 is available!  To upgrade, please run:\n",
       " $ pip install wandb --upgrade"
      ],
      "text/plain": [
       "<IPython.core.display.HTML object>"
      ]
     },
     "metadata": {},
     "output_type": "display_data"
    },
    {
     "data": {
      "text/html": [
       "Tracking run with wandb version 0.13.9"
      ],
      "text/plain": [
       "<IPython.core.display.HTML object>"
      ]
     },
     "metadata": {},
     "output_type": "display_data"
    },
    {
     "data": {
      "text/html": [
       "Run data is saved locally in <code>/mnt/c/Users/ajh50/workspace/Fed-Framework/notebooks/wandb/run-20230310_152856-q70fawgd</code>"
      ],
      "text/plain": [
       "<IPython.core.display.HTML object>"
      ]
     },
     "metadata": {},
     "output_type": "display_data"
    },
    {
     "data": {
      "text/html": [
       "Syncing run <strong><a href=\"https://wandb.ai/iislab-official/kd/runs/q70fawgd\" target=\"_blank\">cnn-scratch-simpleaug</a></strong> to <a href=\"https://wandb.ai/iislab-official/kd\" target=\"_blank\">Weights & Biases</a> (<a href=\"https://wandb.me/run\" target=\"_blank\">docs</a>)<br/>"
      ],
      "text/plain": [
       "<IPython.core.display.HTML object>"
      ]
     },
     "metadata": {},
     "output_type": "display_data"
    },
    {
     "data": {
      "text/html": [
       " View project at <a href=\"https://wandb.ai/iislab-official/kd\" target=\"_blank\">https://wandb.ai/iislab-official/kd</a>"
      ],
      "text/plain": [
       "<IPython.core.display.HTML object>"
      ]
     },
     "metadata": {},
     "output_type": "display_data"
    },
    {
     "data": {
      "text/html": [
       " View run at <a href=\"https://wandb.ai/iislab-official/kd/runs/q70fawgd\" target=\"_blank\">https://wandb.ai/iislab-official/kd/runs/q70fawgd</a>"
      ],
      "text/plain": [
       "<IPython.core.display.HTML object>"
      ]
     },
     "metadata": {},
     "output_type": "display_data"
    },
    {
     "data": {
      "text/html": [
       "<button onClick=\"this.nextSibling.style.display='block';this.style.display='none';\">Display W&B run</button><iframe src=\"https://wandb.ai/iislab-official/kd/runs/q70fawgd?jupyter=true\" style=\"border:none;width:100%;height:420px;display:none;\"></iframe>"
      ],
      "text/plain": [
       "<wandb.sdk.wandb_run.Run at 0x7f2c13930d30>"
      ]
     },
     "execution_count": 6,
     "metadata": {},
     "output_type": "execute_result"
    }
   ],
   "source": [
    "wandb.init(job_type='train', project='kd', name=name)"
   ]
  },
  {
   "cell_type": "code",
   "execution_count": 7,
   "id": "7a235ca9-e86f-4f8d-ae2b-649ad3521188",
   "metadata": {
    "execution": {
     "iopub.execute_input": "2023-03-10T06:29:03.050977Z",
     "iopub.status.busy": "2023-03-10T06:29:03.050679Z",
     "iopub.status.idle": "2023-03-10T06:40:13.836896Z",
     "shell.execute_reply": "2023-03-10T06:40:13.836228Z",
     "shell.execute_reply.started": "2023-03-10T06:29:03.050962Z"
    },
    "tags": []
   },
   "outputs": [
    {
     "name": "stderr",
     "output_type": "stream",
     "text": [
      "100%|█████████████████████████████████████████████████████████████████████████████████| 100/100 [11:10<00:00,  6.71s/it]\n"
     ]
    }
   ],
   "source": [
    "for e in tqdm.trange(EPOCH):\n",
    "    preds = []\n",
    "    targets = []\n",
    "    losses = []\n",
    "    for data, target in trainloader:\n",
    "        with torch.cuda.amp.autocast():\n",
    "            output = net.train()(data.cuda())\n",
    "            loss = criterion(output, target.cuda())\n",
    "        optimizer.zero_grad()\n",
    "        scaler.scale(loss).backward()\n",
    "        scaler.step(optimizer)\n",
    "        scaler.update()\n",
    "        preds+=output.cpu().argmax(dim=1).tolist()\n",
    "        targets+=target.tolist()\n",
    "        losses.append(loss.item())\n",
    "    scheduler.step()\n",
    "    wandb.log({\n",
    "        'epoch':e+1,\n",
    "        'train_acc':accuracy_score(preds, targets)*100,\n",
    "        'train_loss':np.mean(losses),\n",
    "        'lr': scheduler.get_last_lr()[0],\n",
    "    })\n",
    "    preds = []\n",
    "    targets = []\n",
    "    losses = []\n",
    "    with torch.no_grad():\n",
    "        for data, target in testloader:\n",
    "            output = net.eval()(data.cuda())\n",
    "            loss = criterion(output, target.cuda())\n",
    "            preds+=output.cpu().argmax(dim=1).tolist()\n",
    "            targets+=target.tolist()\n",
    "            losses.append(loss.item())\n",
    "    wandb.log({\n",
    "        'epoch':e+1,\n",
    "        'test_acc':accuracy_score(preds, targets)*100,\n",
    "        'test_loss':np.mean(losses)\n",
    "    })"
   ]
  },
  {
   "cell_type": "code",
   "execution_count": 8,
   "id": "b49b7a99-7418-4905-9426-5f1c4a1f2491",
   "metadata": {
    "execution": {
     "iopub.execute_input": "2023-03-10T06:40:13.837927Z",
     "iopub.status.busy": "2023-03-10T06:40:13.837790Z",
     "iopub.status.idle": "2023-03-10T06:40:20.181236Z",
     "shell.execute_reply": "2023-03-10T06:40:20.180855Z",
     "shell.execute_reply.started": "2023-03-10T06:40:13.837915Z"
    },
    "tags": []
   },
   "outputs": [
    {
     "data": {
      "text/html": [
       "Waiting for W&B process to finish... <strong style=\"color:green\">(success).</strong>"
      ],
      "text/plain": [
       "<IPython.core.display.HTML object>"
      ]
     },
     "metadata": {},
     "output_type": "display_data"
    },
    {
     "data": {
      "text/html": [
       "<style>\n",
       "    table.wandb td:nth-child(1) { padding: 0 10px; text-align: left ; width: auto;} td:nth-child(2) {text-align: left ; width: 100%}\n",
       "    .wandb-row { display: flex; flex-direction: row; flex-wrap: wrap; justify-content: flex-start; width: 100% }\n",
       "    .wandb-col { display: flex; flex-direction: column; flex-basis: 100%; flex: 1; padding: 10px; }\n",
       "    </style>\n",
       "<div class=\"wandb-row\"><div class=\"wandb-col\"><h3>Run history:</h3><br/><table class=\"wandb\"><tr><td>epoch</td><td>▁▁▁▁▂▂▂▂▂▃▃▃▃▃▃▄▄▄▄▄▅▅▅▅▅▅▆▆▆▆▆▇▇▇▇▇▇███</td></tr><tr><td>lr</td><td>████▇▇▇▇▆▆▆▆▅▅▅▅▄▄▄▄▄▄▄▄▃▃▃▃▂▂▂▂▂▂▂▂▁▁▁▁</td></tr><tr><td>test_acc</td><td>▁▃▄▅▅▆▆▆▇▆▇▇▇▇▇▇▇█▇██▇▇▇▇█▇████▇███▇████</td></tr><tr><td>test_loss</td><td>█▆▅▄▃▃▃▃▂▃▃▂▂▂▂▂▂▁▂▁▁▂▂▂▂▁▂▁▁▁▁▂▂▁▁▂▁▁▁▁</td></tr><tr><td>train_acc</td><td>▁▃▄▅▅▅▆▆▆▆▆▆▇▇▇▇▇▇▇▇▇▇▇▇▇▇▇▇████████████</td></tr><tr><td>train_loss</td><td>█▆▅▄▄▄▃▃▃▃▃▃▃▂▂▂▂▂▂▂▂▂▂▂▂▂▂▂▁▁▁▁▁▁▁▁▁▁▁▁</td></tr></table><br/></div><div class=\"wandb-col\"><h3>Run summary:</h3><br/><table class=\"wandb\"><tr><td>epoch</td><td>100</td></tr><tr><td>lr</td><td>0.00035</td></tr><tr><td>test_acc</td><td>60.86</td></tr><tr><td>test_loss</td><td>1.12621</td></tr><tr><td>train_acc</td><td>66.158</td></tr><tr><td>train_loss</td><td>0.95414</td></tr></table><br/></div></div>"
      ],
      "text/plain": [
       "<IPython.core.display.HTML object>"
      ]
     },
     "metadata": {},
     "output_type": "display_data"
    },
    {
     "data": {
      "text/html": [
       " View run <strong style=\"color:#cdcd00\">cnn-scratch-simpleaug</strong> at: <a href=\"https://wandb.ai/iislab-official/kd/runs/q70fawgd\" target=\"_blank\">https://wandb.ai/iislab-official/kd/runs/q70fawgd</a><br/>Synced 7 W&B file(s), 0 media file(s), 0 artifact file(s) and 1 other file(s)"
      ],
      "text/plain": [
       "<IPython.core.display.HTML object>"
      ]
     },
     "metadata": {},
     "output_type": "display_data"
    },
    {
     "data": {
      "text/html": [
       "Find logs at: <code>./wandb/run-20230310_152856-q70fawgd/logs</code>"
      ],
      "text/plain": [
       "<IPython.core.display.HTML object>"
      ]
     },
     "metadata": {},
     "output_type": "display_data"
    }
   ],
   "source": [
    "torch.save(net, f'{name}.pth')\n",
    "wandb.finish()"
   ]
  },
  {
   "cell_type": "markdown",
   "id": "264e8491-a790-4f50-af83-fa8174c88abf",
   "metadata": {},
   "source": [
    "# Distill"
   ]
  },
  {
   "cell_type": "code",
   "execution_count": 20,
   "id": "96a2a13e-e1b6-4977-9758-001c367a56ea",
   "metadata": {
    "execution": {
     "iopub.execute_input": "2023-03-09T10:22:15.445898Z",
     "iopub.status.busy": "2023-03-09T10:22:15.445704Z",
     "iopub.status.idle": "2023-03-09T10:22:15.448437Z",
     "shell.execute_reply": "2023-03-09T10:22:15.447893Z",
     "shell.execute_reply.started": "2023-03-09T10:22:15.445886Z"
    },
    "tags": []
   },
   "outputs": [],
   "source": [
    "name = 'eff-cnn-distill-simpleaug'\n",
    "EPOCH = 100\n",
    "LR = 1e-3"
   ]
  },
  {
   "cell_type": "code",
   "execution_count": 21,
   "id": "5f07b1f2-b46a-461b-ac81-d04a01490b77",
   "metadata": {
    "execution": {
     "iopub.execute_input": "2023-03-09T10:22:16.405529Z",
     "iopub.status.busy": "2023-03-09T10:22:16.405035Z",
     "iopub.status.idle": "2023-03-09T10:22:17.972988Z",
     "shell.execute_reply": "2023-03-09T10:22:17.972424Z",
     "shell.execute_reply.started": "2023-03-09T10:22:16.405512Z"
    },
    "tags": []
   },
   "outputs": [],
   "source": [
    "teacher = torch.load('./eff-V2-L-finetune-nofreeze.pth').cuda()\n",
    "student = SimpleCNN().cuda()\n",
    "criterion = torch.dist\n",
    "optimizer = optim.Adam(filter(lambda x: x.requires_grad, student.parameters()), lr=LR)\n",
    "scaler = torch.cuda.amp.GradScaler()\n",
    "scheduler = optim.lr_scheduler.StepLR(optimizer, step_size=10, gamma=0.9)"
   ]
  },
  {
   "cell_type": "code",
   "execution_count": 22,
   "id": "68564ccd-cf33-44a1-a0b5-ebf5726ab3bd",
   "metadata": {
    "execution": {
     "iopub.execute_input": "2023-03-09T10:22:19.311819Z",
     "iopub.status.busy": "2023-03-09T10:22:19.311272Z",
     "iopub.status.idle": "2023-03-09T10:22:26.095077Z",
     "shell.execute_reply": "2023-03-09T10:22:26.094381Z",
     "shell.execute_reply.started": "2023-03-09T10:22:19.311799Z"
    },
    "tags": []
   },
   "outputs": [
    {
     "data": {
      "application/vnd.jupyter.widget-view+json": {
       "model_id": "29e1acfb180d4dfb903fb2d5807c28d0",
       "version_major": 2,
       "version_minor": 0
      },
      "text/plain": [
       "VBox(children=(Label(value='Waiting for wandb.init()...\\r'), FloatProgress(value=0.01666932018318524, max=1.0)…"
      ]
     },
     "metadata": {},
     "output_type": "display_data"
    },
    {
     "data": {
      "text/html": [
       "wandb version 0.13.11 is available!  To upgrade, please run:\n",
       " $ pip install wandb --upgrade"
      ],
      "text/plain": [
       "<IPython.core.display.HTML object>"
      ]
     },
     "metadata": {},
     "output_type": "display_data"
    },
    {
     "data": {
      "text/html": [
       "Tracking run with wandb version 0.13.9"
      ],
      "text/plain": [
       "<IPython.core.display.HTML object>"
      ]
     },
     "metadata": {},
     "output_type": "display_data"
    },
    {
     "data": {
      "text/html": [
       "Run data is saved locally in <code>/mnt/c/Users/ajh50/workspace/Fed-Framework/notebooks/wandb/run-20230309_192219-1xvdc88f</code>"
      ],
      "text/plain": [
       "<IPython.core.display.HTML object>"
      ]
     },
     "metadata": {},
     "output_type": "display_data"
    },
    {
     "data": {
      "text/html": [
       "Syncing run <strong><a href=\"https://wandb.ai/iislab-official/kd/runs/1xvdc88f\" target=\"_blank\">eff-cnn-distill-simpleaug</a></strong> to <a href=\"https://wandb.ai/iislab-official/kd\" target=\"_blank\">Weights & Biases</a> (<a href=\"https://wandb.me/run\" target=\"_blank\">docs</a>)<br/>"
      ],
      "text/plain": [
       "<IPython.core.display.HTML object>"
      ]
     },
     "metadata": {},
     "output_type": "display_data"
    },
    {
     "data": {
      "text/html": [
       " View project at <a href=\"https://wandb.ai/iislab-official/kd\" target=\"_blank\">https://wandb.ai/iislab-official/kd</a>"
      ],
      "text/plain": [
       "<IPython.core.display.HTML object>"
      ]
     },
     "metadata": {},
     "output_type": "display_data"
    },
    {
     "data": {
      "text/html": [
       " View run at <a href=\"https://wandb.ai/iislab-official/kd/runs/1xvdc88f\" target=\"_blank\">https://wandb.ai/iislab-official/kd/runs/1xvdc88f</a>"
      ],
      "text/plain": [
       "<IPython.core.display.HTML object>"
      ]
     },
     "metadata": {},
     "output_type": "display_data"
    },
    {
     "data": {
      "text/html": [
       "<button onClick=\"this.nextSibling.style.display='block';this.style.display='none';\">Display W&B run</button><iframe src=\"https://wandb.ai/iislab-official/kd/runs/1xvdc88f?jupyter=true\" style=\"border:none;width:100%;height:420px;display:none;\"></iframe>"
      ],
      "text/plain": [
       "<wandb.sdk.wandb_run.Run at 0x7f989ed78cd0>"
      ]
     },
     "execution_count": 22,
     "metadata": {},
     "output_type": "execute_result"
    }
   ],
   "source": [
    "wandb.init(job_type='distill', project='kd', name=name)"
   ]
  },
  {
   "cell_type": "code",
   "execution_count": 23,
   "id": "da385202-9e83-4302-b551-bc86886d4542",
   "metadata": {
    "execution": {
     "iopub.execute_input": "2023-03-09T10:22:26.182863Z",
     "iopub.status.busy": "2023-03-09T10:22:26.182396Z",
     "iopub.status.idle": "2023-03-09T13:31:09.886142Z",
     "shell.execute_reply": "2023-03-09T13:31:09.885602Z",
     "shell.execute_reply.started": "2023-03-09T10:22:26.182849Z"
    },
    "tags": []
   },
   "outputs": [
    {
     "name": "stderr",
     "output_type": "stream",
     "text": [
      "100%|██████████████████████████████████████████████████████████████████████████████| 100/100 [3:08:43<00:00, 113.24s/it]\n"
     ]
    }
   ],
   "source": [
    "for e in tqdm.trange(EPOCH):\n",
    "    preds = []\n",
    "    targets = []\n",
    "    losses = []\n",
    "    for data, target in trainloader:\n",
    "        with torch.cuda.amp.autocast():\n",
    "            with torch.no_grad():\n",
    "                output_t = teacher.eval()(data.cuda())\n",
    "            output_s = student.train()(T.Resize((32,32))(data.cuda()))\n",
    "            loss = criterion(output_t, output_s)\n",
    "        optimizer.zero_grad()\n",
    "        scaler.scale(loss).backward()\n",
    "        scaler.step(optimizer)\n",
    "        scaler.update()\n",
    "        preds+=output_s.cpu().argmax(dim=1).tolist()\n",
    "        targets+=target.tolist()\n",
    "        losses.append(loss.item())\n",
    "    scheduler.step()\n",
    "    wandb.log({\n",
    "        'epoch':e+1,\n",
    "        'train_acc':accuracy_score(preds, targets)*100,\n",
    "        'train_loss':np.mean(losses),\n",
    "        'lr': scheduler.get_last_lr()[0],\n",
    "    })\n",
    "    preds = []\n",
    "    targets = []\n",
    "    losses = []\n",
    "    with torch.no_grad(), torch.cuda.amp.autocast():\n",
    "        for data, target in testloader:\n",
    "            output_t = teacher.eval()(data.cuda())\n",
    "            output_s = student.eval()(T.Resize((32,32))(data.cuda()))\n",
    "            loss = criterion(output_t, output_s)\n",
    "            preds+=output_s.cpu().argmax(dim=1).tolist()\n",
    "            targets+=target.tolist()\n",
    "            losses.append(loss.item())\n",
    "    wandb.log({\n",
    "        'epoch':e+1,\n",
    "        'test_acc':accuracy_score(preds, targets)*100,\n",
    "        'test_loss':np.mean(losses)\n",
    "    })"
   ]
  },
  {
   "cell_type": "code",
   "execution_count": 24,
   "id": "75757342-81ca-4b20-a898-ea9386b70b31",
   "metadata": {
    "execution": {
     "iopub.execute_input": "2023-03-09T13:31:09.887546Z",
     "iopub.status.busy": "2023-03-09T13:31:09.887299Z",
     "iopub.status.idle": "2023-03-09T13:31:18.430619Z",
     "shell.execute_reply": "2023-03-09T13:31:18.430221Z",
     "shell.execute_reply.started": "2023-03-09T13:31:09.887533Z"
    },
    "tags": []
   },
   "outputs": [
    {
     "data": {
      "text/html": [
       "Waiting for W&B process to finish... <strong style=\"color:green\">(success).</strong>"
      ],
      "text/plain": [
       "<IPython.core.display.HTML object>"
      ]
     },
     "metadata": {},
     "output_type": "display_data"
    },
    {
     "data": {
      "application/vnd.jupyter.widget-view+json": {
       "model_id": "c6eff914b6224545b539b37bf0ef07a3",
       "version_major": 2,
       "version_minor": 0
      },
      "text/plain": [
       "VBox(children=(Label(value='0.017 MB of 0.017 MB uploaded (0.000 MB deduped)\\r'), FloatProgress(value=1.0, max…"
      ]
     },
     "metadata": {},
     "output_type": "display_data"
    },
    {
     "data": {
      "text/html": [
       "<style>\n",
       "    table.wandb td:nth-child(1) { padding: 0 10px; text-align: left ; width: auto;} td:nth-child(2) {text-align: left ; width: 100%}\n",
       "    .wandb-row { display: flex; flex-direction: row; flex-wrap: wrap; justify-content: flex-start; width: 100% }\n",
       "    .wandb-col { display: flex; flex-direction: column; flex-basis: 100%; flex: 1; padding: 10px; }\n",
       "    </style>\n",
       "<div class=\"wandb-row\"><div class=\"wandb-col\"><h3>Run history:</h3><br/><table class=\"wandb\"><tr><td>epoch</td><td>▁▁▁▁▂▂▂▂▂▃▃▃▃▃▃▄▄▄▄▄▅▅▅▅▅▅▆▆▆▆▆▇▇▇▇▇▇███</td></tr><tr><td>lr</td><td>████▇▇▇▇▆▆▆▆▅▅▅▅▄▄▄▄▄▄▄▄▃▃▃▃▂▂▂▂▂▂▂▂▁▁▁▁</td></tr><tr><td>test_acc</td><td>▁▃▄▅▆▆▆▆▆▆▇▇▇▇▇▇▇▇▇▇▇▇▇▇▇███▇███████████</td></tr><tr><td>test_loss</td><td>█▆▅▅▄▄▄▃▃▃▃▃▃▂▂▂▂▂▂▂▂▂▂▂▁▂▁▁▂▁▁▁▁▁▁▁▁▁▁▁</td></tr><tr><td>train_acc</td><td>▁▄▅▅▆▆▆▆▇▇▇▇▇▇▇▇▇▇▇▇▇███▇███████████████</td></tr><tr><td>train_loss</td><td>█▆▅▄▄▃▃▃▃▃▃▃▂▂▂▂▂▂▂▂▂▂▂▂▂▁▁▁▁▁▁▁▁▁▁▁▁▁▁▁</td></tr></table><br/></div><div class=\"wandb-col\"><h3>Run summary:</h3><br/><table class=\"wandb\"><tr><td>epoch</td><td>100</td></tr><tr><td>lr</td><td>0.00035</td></tr><tr><td>test_acc</td><td>70.16</td></tr><tr><td>test_loss</td><td>110.75859</td></tr><tr><td>train_acc</td><td>49.1</td></tr><tr><td>train_loss</td><td>79.98911</td></tr></table><br/></div></div>"
      ],
      "text/plain": [
       "<IPython.core.display.HTML object>"
      ]
     },
     "metadata": {},
     "output_type": "display_data"
    },
    {
     "data": {
      "text/html": [
       " View run <strong style=\"color:#cdcd00\">eff-cnn-distill-simpleaug</strong> at: <a href=\"https://wandb.ai/iislab-official/kd/runs/1xvdc88f\" target=\"_blank\">https://wandb.ai/iislab-official/kd/runs/1xvdc88f</a><br/>Synced 7 W&B file(s), 0 media file(s), 0 artifact file(s) and 1 other file(s)"
      ],
      "text/plain": [
       "<IPython.core.display.HTML object>"
      ]
     },
     "metadata": {},
     "output_type": "display_data"
    },
    {
     "data": {
      "text/html": [
       "Find logs at: <code>./wandb/run-20230309_192219-1xvdc88f/logs</code>"
      ],
      "text/plain": [
       "<IPython.core.display.HTML object>"
      ]
     },
     "metadata": {},
     "output_type": "display_data"
    }
   ],
   "source": [
    "torch.save(student, f'{name}.pth')\n",
    "wandb.finish()"
   ]
  },
  {
   "cell_type": "code",
   "execution_count": null,
   "id": "c0050129-2cf6-469b-b4df-40265764d118",
   "metadata": {},
   "outputs": [],
   "source": [
    "\n",
    "\n",
    "\n",
    "\n",
    "\n",
    "\n",
    "\n",
    "\n",
    "\n"
   ]
  }
 ],
 "metadata": {
  "kernelspec": {
   "display_name": "torch_1.12.1",
   "language": "python",
   "name": "torch_1.12.1"
  },
  "language_info": {
   "codemirror_mode": {
    "name": "ipython",
    "version": 3
   },
   "file_extension": ".py",
   "mimetype": "text/x-python",
   "name": "python",
   "nbconvert_exporter": "python",
   "pygments_lexer": "ipython3",
   "version": "3.9.13"
  }
 },
 "nbformat": 4,
 "nbformat_minor": 5
}
